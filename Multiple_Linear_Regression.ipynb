{
 "cells": [
  {
   "cell_type": "code",
   "execution_count": 1,
   "metadata": {
    "_cell_guid": "b1076dfc-b9ad-4769-8c92-a6c4dae69d19",
    "_uuid": "8f2839f25d086af736a60e9eeb907d3b93b6e0e5",
    "execution": {
     "iopub.execute_input": "2021-07-13T12:15:15.319057Z",
     "iopub.status.busy": "2021-07-13T12:15:15.318336Z",
     "iopub.status.idle": "2021-07-13T12:15:15.330308Z",
     "shell.execute_reply": "2021-07-13T12:15:15.329597Z"
    },
    "jupyter": {
     "source_hidden": true
    },
    "papermill": {
     "duration": 0.038719,
     "end_time": "2021-07-13T12:15:15.330444",
     "exception": false,
     "start_time": "2021-07-13T12:15:15.291725",
     "status": "completed"
    },
    "tags": []
   },
   "outputs": [
    {
     "name": "stdout",
     "output_type": "stream",
     "text": [
      "/kaggle/input/minihomeprices.csv\n"
     ]
    }
   ],
   "source": [
    "# This Python 3 environment comes with many helpful analytics libraries installed\n",
    "# It is defined by the kaggle/python Docker image: https://github.com/kaggle/docker-python\n",
    "# For example, here's several helpful packages to load\n",
    "\n",
    "import numpy as np # linear algebra\n",
    "import pandas as pd # data processing, CSV file I/O (e.g. pd.read_csv)\n",
    "\n",
    "# Input data files are available in the read-only \"../input/\" directory\n",
    "# For example, running this (by clicking run or pressing Shift+Enter) will list all files under the input directory\n",
    "\n",
    "import os\n",
    "for dirname, _, filenames in os.walk('/kaggle/input'):\n",
    "    for filename in filenames:\n",
    "        print(os.path.join(dirname, filename))\n",
    "\n",
    "# You can write up to 5GB to the current directory (/kaggle/working/) that gets preserved as output when you create a version using \"Save & Run All\" \n",
    "# You can also write temporary files to /kaggle/temp/, but they won't be saved outside of the current session."
   ]
  },
  {
   "cell_type": "code",
   "execution_count": 2,
   "metadata": {
    "execution": {
     "iopub.execute_input": "2021-07-13T12:15:15.379084Z",
     "iopub.status.busy": "2021-07-13T12:15:15.378338Z",
     "iopub.status.idle": "2021-07-13T12:15:16.430652Z",
     "shell.execute_reply": "2021-07-13T12:15:16.429902Z"
    },
    "papermill": {
     "duration": 1.08003,
     "end_time": "2021-07-13T12:15:16.430822",
     "exception": false,
     "start_time": "2021-07-13T12:15:15.350792",
     "status": "completed"
    },
    "tags": []
   },
   "outputs": [],
   "source": [
    "# Import visualization packages\n",
    "import matplotlib.pyplot as plt\n",
    "%matplotlib inline\n",
    "\n",
    "import seaborn as sns\n",
    "\n",
    "import warnings\n",
    "warnings.filterwarnings('ignore')"
   ]
  },
  {
   "cell_type": "markdown",
   "metadata": {
    "_cell_guid": "79c7e3d0-c299-4dcb-8224-4455121ee9b0",
    "_uuid": "d629ff2d2480ee46fbb7e2d37f6b5fab8052498a",
    "papermill": {
     "duration": 0.019757,
     "end_time": "2021-07-13T12:15:16.470619",
     "exception": false,
     "start_time": "2021-07-13T12:15:16.450862",
     "status": "completed"
    },
    "tags": []
   },
   "source": [
    "# 1. Import Dataset\n"
   ]
  },
  {
   "cell_type": "code",
   "execution_count": 3,
   "metadata": {
    "execution": {
     "iopub.execute_input": "2021-07-13T12:15:16.523658Z",
     "iopub.status.busy": "2021-07-13T12:15:16.522923Z",
     "iopub.status.idle": "2021-07-13T12:15:16.560201Z",
     "shell.execute_reply": "2021-07-13T12:15:16.559461Z"
    },
    "papermill": {
     "duration": 0.069311,
     "end_time": "2021-07-13T12:15:16.560355",
     "exception": false,
     "start_time": "2021-07-13T12:15:16.491044",
     "status": "completed"
    },
    "tags": []
   },
   "outputs": [
    {
     "data": {
      "text/html": [
       "<div>\n",
       "<style scoped>\n",
       "    .dataframe tbody tr th:only-of-type {\n",
       "        vertical-align: middle;\n",
       "    }\n",
       "\n",
       "    .dataframe tbody tr th {\n",
       "        vertical-align: top;\n",
       "    }\n",
       "\n",
       "    .dataframe thead th {\n",
       "        text-align: right;\n",
       "    }\n",
       "</style>\n",
       "<table border=\"1\" class=\"dataframe\">\n",
       "  <thead>\n",
       "    <tr style=\"text-align: right;\">\n",
       "      <th></th>\n",
       "      <th>area</th>\n",
       "      <th>bedrooms</th>\n",
       "      <th>age</th>\n",
       "      <th>price</th>\n",
       "    </tr>\n",
       "  </thead>\n",
       "  <tbody>\n",
       "    <tr>\n",
       "      <th>0</th>\n",
       "      <td>2600</td>\n",
       "      <td>3.0</td>\n",
       "      <td>20</td>\n",
       "      <td>550000</td>\n",
       "    </tr>\n",
       "    <tr>\n",
       "      <th>1</th>\n",
       "      <td>3000</td>\n",
       "      <td>4.0</td>\n",
       "      <td>15</td>\n",
       "      <td>565000</td>\n",
       "    </tr>\n",
       "    <tr>\n",
       "      <th>2</th>\n",
       "      <td>3200</td>\n",
       "      <td>NaN</td>\n",
       "      <td>18</td>\n",
       "      <td>610000</td>\n",
       "    </tr>\n",
       "    <tr>\n",
       "      <th>3</th>\n",
       "      <td>3600</td>\n",
       "      <td>3.0</td>\n",
       "      <td>30</td>\n",
       "      <td>595000</td>\n",
       "    </tr>\n",
       "    <tr>\n",
       "      <th>4</th>\n",
       "      <td>4000</td>\n",
       "      <td>5.0</td>\n",
       "      <td>8</td>\n",
       "      <td>760000</td>\n",
       "    </tr>\n",
       "  </tbody>\n",
       "</table>\n",
       "</div>"
      ],
      "text/plain": [
       "   area  bedrooms  age   price\n",
       "0  2600       3.0   20  550000\n",
       "1  3000       4.0   15  565000\n",
       "2  3200       NaN   18  610000\n",
       "3  3600       3.0   30  595000\n",
       "4  4000       5.0    8  760000"
      ]
     },
     "execution_count": 3,
     "metadata": {},
     "output_type": "execute_result"
    }
   ],
   "source": [
    "\n",
    "#  Load data set \n",
    "df  = pd.read_csv('/kaggle/input/minihomeprices.csv')\n",
    "\n",
    "\n",
    "# show first five rows\n",
    "df.head()"
   ]
  },
  {
   "cell_type": "code",
   "execution_count": 4,
   "metadata": {
    "execution": {
     "iopub.execute_input": "2021-07-13T12:15:16.618280Z",
     "iopub.status.busy": "2021-07-13T12:15:16.617535Z",
     "iopub.status.idle": "2021-07-13T12:15:16.623344Z",
     "shell.execute_reply": "2021-07-13T12:15:16.622568Z"
    },
    "papermill": {
     "duration": 0.040056,
     "end_time": "2021-07-13T12:15:16.623476",
     "exception": false,
     "start_time": "2021-07-13T12:15:16.583420",
     "status": "completed"
    },
    "tags": []
   },
   "outputs": [
    {
     "name": "stdout",
     "output_type": "stream",
     "text": [
      "<class 'pandas.core.frame.DataFrame'>\n",
      "RangeIndex: 6 entries, 0 to 5\n",
      "Data columns (total 4 columns):\n",
      " #   Column    Non-Null Count  Dtype  \n",
      "---  ------    --------------  -----  \n",
      " 0   area      6 non-null      int64  \n",
      " 1   bedrooms  5 non-null      float64\n",
      " 2   age       6 non-null      int64  \n",
      " 3   price     6 non-null      int64  \n",
      "dtypes: float64(1), int64(3)\n",
      "memory usage: 320.0 bytes\n"
     ]
    }
   ],
   "source": [
    "# show information about data set\n",
    "\n",
    "df.info()"
   ]
  },
  {
   "cell_type": "code",
   "execution_count": 5,
   "metadata": {
    "execution": {
     "iopub.execute_input": "2021-07-13T12:15:16.681059Z",
     "iopub.status.busy": "2021-07-13T12:15:16.679723Z",
     "iopub.status.idle": "2021-07-13T12:15:16.877148Z",
     "shell.execute_reply": "2021-07-13T12:15:16.877719Z"
    },
    "papermill": {
     "duration": 0.233283,
     "end_time": "2021-07-13T12:15:16.877897",
     "exception": false,
     "start_time": "2021-07-13T12:15:16.644614",
     "status": "completed"
    },
    "tags": []
   },
   "outputs": [
    {
     "data": {
      "text/html": [
       "<style  type=\"text/css\" >\n",
       "    #T_fbe4df72_e3d3_11eb_9804_0242ac130202row0_col0 {\n",
       "            background-color:  #000000;\n",
       "            color:  #f1f1f1;\n",
       "        }    #T_fbe4df72_e3d3_11eb_9804_0242ac130202row0_col1 {\n",
       "            background-color:  #e6cb39;\n",
       "            color:  #000000;\n",
       "        }    #T_fbe4df72_e3d3_11eb_9804_0242ac130202row0_col2 {\n",
       "            background-color:  #000000;\n",
       "            color:  #f1f1f1;\n",
       "        }    #T_fbe4df72_e3d3_11eb_9804_0242ac130202row0_col3 {\n",
       "            background-color:  #000000;\n",
       "            color:  #f1f1f1;\n",
       "        }    #T_fbe4df72_e3d3_11eb_9804_0242ac130202row1_col0 {\n",
       "            background-color:  #e6d95f;\n",
       "            color:  #000000;\n",
       "        }    #T_fbe4df72_e3d3_11eb_9804_0242ac130202row1_col1 {\n",
       "            background-color:  #e77b03;\n",
       "            color:  #000000;\n",
       "        }    #T_fbe4df72_e3d3_11eb_9804_0242ac130202row1_col2 {\n",
       "            background-color:  #cd3a52;\n",
       "            color:  #f1f1f1;\n",
       "        }    #T_fbe4df72_e3d3_11eb_9804_0242ac130202row1_col3 {\n",
       "            background-color:  #e6cf42;\n",
       "            color:  #000000;\n",
       "        }    #T_fbe4df72_e3d3_11eb_9804_0242ac130202row2_col0 {\n",
       "            background-color:  #2b2688;\n",
       "            color:  #f1f1f1;\n",
       "        }    #T_fbe4df72_e3d3_11eb_9804_0242ac130202row2_col1 {\n",
       "            background-color:  #000000;\n",
       "            color:  #f1f1f1;\n",
       "        }    #T_fbe4df72_e3d3_11eb_9804_0242ac130202row2_col2 {\n",
       "            background-color:  #1d1d60;\n",
       "            color:  #f1f1f1;\n",
       "        }    #T_fbe4df72_e3d3_11eb_9804_0242ac130202row2_col3 {\n",
       "            background-color:  #292684;\n",
       "            color:  #f1f1f1;\n",
       "        }    #T_fbe4df72_e3d3_11eb_9804_0242ac130202row3_col0 {\n",
       "            background-color:  #e68502;\n",
       "            color:  #000000;\n",
       "        }    #T_fbe4df72_e3d3_11eb_9804_0242ac130202row3_col1 {\n",
       "            background-color:  #903287;\n",
       "            color:  #f1f1f1;\n",
       "        }    #T_fbe4df72_e3d3_11eb_9804_0242ac130202row3_col2 {\n",
       "            background-color:  #191954;\n",
       "            color:  #f1f1f1;\n",
       "        }    #T_fbe4df72_e3d3_11eb_9804_0242ac130202row3_col3 {\n",
       "            background-color:  #e69b0b;\n",
       "            color:  #000000;\n",
       "        }    #T_fbe4df72_e3d3_11eb_9804_0242ac130202row4_col0 {\n",
       "            background-color:  #e6bd18;\n",
       "            color:  #000000;\n",
       "        }    #T_fbe4df72_e3d3_11eb_9804_0242ac130202row4_col1 {\n",
       "            background-color:  #903287;\n",
       "            color:  #f1f1f1;\n",
       "        }    #T_fbe4df72_e3d3_11eb_9804_0242ac130202row4_col2 {\n",
       "            background-color:  #302690;\n",
       "            color:  #f1f1f1;\n",
       "        }    #T_fbe4df72_e3d3_11eb_9804_0242ac130202row4_col3 {\n",
       "            background-color:  #e6a910;\n",
       "            color:  #000000;\n",
       "        }    #T_fbe4df72_e3d3_11eb_9804_0242ac130202row5_col0 {\n",
       "            background-color:  #e6d85c;\n",
       "            color:  #000000;\n",
       "        }    #T_fbe4df72_e3d3_11eb_9804_0242ac130202row5_col1 {\n",
       "            background-color:  #f06510;\n",
       "            color:  #000000;\n",
       "        }    #T_fbe4df72_e3d3_11eb_9804_0242ac130202row5_col2 {\n",
       "            background-color:  #cd3a52;\n",
       "            color:  #f1f1f1;\n",
       "        }    #T_fbe4df72_e3d3_11eb_9804_0242ac130202row5_col3 {\n",
       "            background-color:  #e6bd18;\n",
       "            color:  #000000;\n",
       "        }    #T_fbe4df72_e3d3_11eb_9804_0242ac130202row6_col0 {\n",
       "            background-color:  #f5f5cf;\n",
       "            color:  #000000;\n",
       "        }    #T_fbe4df72_e3d3_11eb_9804_0242ac130202row6_col1 {\n",
       "            background-color:  #e6cb39;\n",
       "            color:  #000000;\n",
       "        }    #T_fbe4df72_e3d3_11eb_9804_0242ac130202row6_col2 {\n",
       "            background-color:  #f26112;\n",
       "            color:  #000000;\n",
       "        }    #T_fbe4df72_e3d3_11eb_9804_0242ac130202row6_col3 {\n",
       "            background-color:  #e9e993;\n",
       "            color:  #000000;\n",
       "        }    #T_fbe4df72_e3d3_11eb_9804_0242ac130202row7_col0 {\n",
       "            background-color:  #ffffff;\n",
       "            color:  #000000;\n",
       "        }    #T_fbe4df72_e3d3_11eb_9804_0242ac130202row7_col1 {\n",
       "            background-color:  #ffffff;\n",
       "            color:  #000000;\n",
       "        }    #T_fbe4df72_e3d3_11eb_9804_0242ac130202row7_col2 {\n",
       "            background-color:  #ffffff;\n",
       "            color:  #000000;\n",
       "        }    #T_fbe4df72_e3d3_11eb_9804_0242ac130202row7_col3 {\n",
       "            background-color:  #ffffff;\n",
       "            color:  #000000;\n",
       "        }</style><table id=\"T_fbe4df72_e3d3_11eb_9804_0242ac130202\" ><thead>    <tr>        <th class=\"blank level0\" ></th>        <th class=\"col_heading level0 col0\" >area</th>        <th class=\"col_heading level0 col1\" >bedrooms</th>        <th class=\"col_heading level0 col2\" >age</th>        <th class=\"col_heading level0 col3\" >price</th>    </tr></thead><tbody>\n",
       "                <tr>\n",
       "                        <th id=\"T_fbe4df72_e3d3_11eb_9804_0242ac130202level0_row0\" class=\"row_heading level0 row0\" >count</th>\n",
       "                        <td id=\"T_fbe4df72_e3d3_11eb_9804_0242ac130202row0_col0\" class=\"data row0 col0\" >6.000000</td>\n",
       "                        <td id=\"T_fbe4df72_e3d3_11eb_9804_0242ac130202row0_col1\" class=\"data row0 col1\" >5.000000</td>\n",
       "                        <td id=\"T_fbe4df72_e3d3_11eb_9804_0242ac130202row0_col2\" class=\"data row0 col2\" >6.000000</td>\n",
       "                        <td id=\"T_fbe4df72_e3d3_11eb_9804_0242ac130202row0_col3\" class=\"data row0 col3\" >6.000000</td>\n",
       "            </tr>\n",
       "            <tr>\n",
       "                        <th id=\"T_fbe4df72_e3d3_11eb_9804_0242ac130202level0_row1\" class=\"row_heading level0 row1\" >mean</th>\n",
       "                        <td id=\"T_fbe4df72_e3d3_11eb_9804_0242ac130202row1_col0\" class=\"data row1 col0\" >3416.666667</td>\n",
       "                        <td id=\"T_fbe4df72_e3d3_11eb_9804_0242ac130202row1_col1\" class=\"data row1 col1\" >4.200000</td>\n",
       "                        <td id=\"T_fbe4df72_e3d3_11eb_9804_0242ac130202row1_col2\" class=\"data row1 col2\" >16.500000</td>\n",
       "                        <td id=\"T_fbe4df72_e3d3_11eb_9804_0242ac130202row1_col3\" class=\"data row1 col3\" >648333.333333</td>\n",
       "            </tr>\n",
       "            <tr>\n",
       "                        <th id=\"T_fbe4df72_e3d3_11eb_9804_0242ac130202level0_row2\" class=\"row_heading level0 row2\" >std</th>\n",
       "                        <td id=\"T_fbe4df72_e3d3_11eb_9804_0242ac130202row2_col0\" class=\"data row2 col0\" >587.934237</td>\n",
       "                        <td id=\"T_fbe4df72_e3d3_11eb_9804_0242ac130202row2_col1\" class=\"data row2 col1\" >1.303840</td>\n",
       "                        <td id=\"T_fbe4df72_e3d3_11eb_9804_0242ac130202row2_col2\" class=\"data row2 col2\" >8.288546</td>\n",
       "                        <td id=\"T_fbe4df72_e3d3_11eb_9804_0242ac130202row2_col3\" class=\"data row2 col3\" >109117.673484</td>\n",
       "            </tr>\n",
       "            <tr>\n",
       "                        <th id=\"T_fbe4df72_e3d3_11eb_9804_0242ac130202level0_row3\" class=\"row_heading level0 row3\" >min</th>\n",
       "                        <td id=\"T_fbe4df72_e3d3_11eb_9804_0242ac130202row3_col0\" class=\"data row3 col0\" >2600.000000</td>\n",
       "                        <td id=\"T_fbe4df72_e3d3_11eb_9804_0242ac130202row3_col1\" class=\"data row3 col1\" >3.000000</td>\n",
       "                        <td id=\"T_fbe4df72_e3d3_11eb_9804_0242ac130202row3_col2\" class=\"data row3 col2\" >8.000000</td>\n",
       "                        <td id=\"T_fbe4df72_e3d3_11eb_9804_0242ac130202row3_col3\" class=\"data row3 col3\" >550000.000000</td>\n",
       "            </tr>\n",
       "            <tr>\n",
       "                        <th id=\"T_fbe4df72_e3d3_11eb_9804_0242ac130202level0_row4\" class=\"row_heading level0 row4\" >25%</th>\n",
       "                        <td id=\"T_fbe4df72_e3d3_11eb_9804_0242ac130202row4_col0\" class=\"data row4 col0\" >3050.000000</td>\n",
       "                        <td id=\"T_fbe4df72_e3d3_11eb_9804_0242ac130202row4_col1\" class=\"data row4 col1\" >3.000000</td>\n",
       "                        <td id=\"T_fbe4df72_e3d3_11eb_9804_0242ac130202row4_col2\" class=\"data row4 col2\" >9.750000</td>\n",
       "                        <td id=\"T_fbe4df72_e3d3_11eb_9804_0242ac130202row4_col3\" class=\"data row4 col3\" >572500.000000</td>\n",
       "            </tr>\n",
       "            <tr>\n",
       "                        <th id=\"T_fbe4df72_e3d3_11eb_9804_0242ac130202level0_row5\" class=\"row_heading level0 row5\" >50%</th>\n",
       "                        <td id=\"T_fbe4df72_e3d3_11eb_9804_0242ac130202row5_col0\" class=\"data row5 col0\" >3400.000000</td>\n",
       "                        <td id=\"T_fbe4df72_e3d3_11eb_9804_0242ac130202row5_col1\" class=\"data row5 col1\" >4.000000</td>\n",
       "                        <td id=\"T_fbe4df72_e3d3_11eb_9804_0242ac130202row5_col2\" class=\"data row5 col2\" >16.500000</td>\n",
       "                        <td id=\"T_fbe4df72_e3d3_11eb_9804_0242ac130202row5_col3\" class=\"data row5 col3\" >602500.000000</td>\n",
       "            </tr>\n",
       "            <tr>\n",
       "                        <th id=\"T_fbe4df72_e3d3_11eb_9804_0242ac130202level0_row6\" class=\"row_heading level0 row6\" >75%</th>\n",
       "                        <td id=\"T_fbe4df72_e3d3_11eb_9804_0242ac130202row6_col0\" class=\"data row6 col0\" >3900.000000</td>\n",
       "                        <td id=\"T_fbe4df72_e3d3_11eb_9804_0242ac130202row6_col1\" class=\"data row6 col1\" >5.000000</td>\n",
       "                        <td id=\"T_fbe4df72_e3d3_11eb_9804_0242ac130202row6_col2\" class=\"data row6 col2\" >19.500000</td>\n",
       "                        <td id=\"T_fbe4df72_e3d3_11eb_9804_0242ac130202row6_col3\" class=\"data row6 col3\" >722500.000000</td>\n",
       "            </tr>\n",
       "            <tr>\n",
       "                        <th id=\"T_fbe4df72_e3d3_11eb_9804_0242ac130202level0_row7\" class=\"row_heading level0 row7\" >max</th>\n",
       "                        <td id=\"T_fbe4df72_e3d3_11eb_9804_0242ac130202row7_col0\" class=\"data row7 col0\" >4100.000000</td>\n",
       "                        <td id=\"T_fbe4df72_e3d3_11eb_9804_0242ac130202row7_col1\" class=\"data row7 col1\" >6.000000</td>\n",
       "                        <td id=\"T_fbe4df72_e3d3_11eb_9804_0242ac130202row7_col2\" class=\"data row7 col2\" >30.000000</td>\n",
       "                        <td id=\"T_fbe4df72_e3d3_11eb_9804_0242ac130202row7_col3\" class=\"data row7 col3\" >810000.000000</td>\n",
       "            </tr>\n",
       "    </tbody></table>"
      ],
      "text/plain": [
       "<pandas.io.formats.style.Styler at 0x7f9305e2cc90>"
      ]
     },
     "execution_count": 5,
     "metadata": {},
     "output_type": "execute_result"
    }
   ],
   "source": [
    "# Descriptiion of our data set\n",
    "\n",
    "df.describe().style.background_gradient(cmap='CMRmap')\n"
   ]
  },
  {
   "cell_type": "markdown",
   "metadata": {
    "papermill": {
     "duration": 0.021649,
     "end_time": "2021-07-13T12:15:16.921528",
     "exception": false,
     "start_time": "2021-07-13T12:15:16.899879",
     "status": "completed"
    },
    "tags": []
   },
   "source": [
    "# 2. Data Analysis"
   ]
  },
  {
   "cell_type": "code",
   "execution_count": 6,
   "metadata": {
    "execution": {
     "iopub.execute_input": "2021-07-13T12:15:16.975752Z",
     "iopub.status.busy": "2021-07-13T12:15:16.974775Z",
     "iopub.status.idle": "2021-07-13T12:15:16.980147Z",
     "shell.execute_reply": "2021-07-13T12:15:16.979556Z"
    },
    "papermill": {
     "duration": 0.036065,
     "end_time": "2021-07-13T12:15:16.980285",
     "exception": false,
     "start_time": "2021-07-13T12:15:16.944220",
     "status": "completed"
    },
    "tags": []
   },
   "outputs": [
    {
     "data": {
      "text/plain": [
       "area        0\n",
       "bedrooms    1\n",
       "age         0\n",
       "price       0\n",
       "dtype: int64"
      ]
     },
     "execution_count": 6,
     "metadata": {},
     "output_type": "execute_result"
    }
   ],
   "source": [
    "#  to know how many null values\n",
    "\n",
    "df.isna().sum()"
   ]
  },
  {
   "cell_type": "markdown",
   "metadata": {
    "papermill": {
     "duration": 0.022257,
     "end_time": "2021-07-13T12:15:17.025323",
     "exception": false,
     "start_time": "2021-07-13T12:15:17.003066",
     "status": "completed"
    },
    "tags": []
   },
   "source": [
    "* we can see here only bedrooms has null values"
   ]
  },
  {
   "cell_type": "code",
   "execution_count": 7,
   "metadata": {
    "execution": {
     "iopub.execute_input": "2021-07-13T12:15:17.086185Z",
     "iopub.status.busy": "2021-07-13T12:15:17.085208Z",
     "iopub.status.idle": "2021-07-13T12:15:17.090480Z",
     "shell.execute_reply": "2021-07-13T12:15:17.089777Z"
    },
    "papermill": {
     "duration": 0.042972,
     "end_time": "2021-07-13T12:15:17.090601",
     "exception": false,
     "start_time": "2021-07-13T12:15:17.047629",
     "status": "completed"
    },
    "tags": []
   },
   "outputs": [
    {
     "data": {
      "text/html": [
       "<div>\n",
       "<style scoped>\n",
       "    .dataframe tbody tr th:only-of-type {\n",
       "        vertical-align: middle;\n",
       "    }\n",
       "\n",
       "    .dataframe tbody tr th {\n",
       "        vertical-align: top;\n",
       "    }\n",
       "\n",
       "    .dataframe thead th {\n",
       "        text-align: right;\n",
       "    }\n",
       "</style>\n",
       "<table border=\"1\" class=\"dataframe\">\n",
       "  <thead>\n",
       "    <tr style=\"text-align: right;\">\n",
       "      <th></th>\n",
       "      <th>area</th>\n",
       "      <th>bedrooms</th>\n",
       "      <th>age</th>\n",
       "      <th>price</th>\n",
       "    </tr>\n",
       "  </thead>\n",
       "  <tbody>\n",
       "    <tr>\n",
       "      <th>0</th>\n",
       "      <td>2600</td>\n",
       "      <td>3.0</td>\n",
       "      <td>20</td>\n",
       "      <td>550000</td>\n",
       "    </tr>\n",
       "    <tr>\n",
       "      <th>1</th>\n",
       "      <td>3000</td>\n",
       "      <td>4.0</td>\n",
       "      <td>15</td>\n",
       "      <td>565000</td>\n",
       "    </tr>\n",
       "    <tr>\n",
       "      <th>2</th>\n",
       "      <td>3200</td>\n",
       "      <td>4.2</td>\n",
       "      <td>18</td>\n",
       "      <td>610000</td>\n",
       "    </tr>\n",
       "    <tr>\n",
       "      <th>3</th>\n",
       "      <td>3600</td>\n",
       "      <td>3.0</td>\n",
       "      <td>30</td>\n",
       "      <td>595000</td>\n",
       "    </tr>\n",
       "    <tr>\n",
       "      <th>4</th>\n",
       "      <td>4000</td>\n",
       "      <td>5.0</td>\n",
       "      <td>8</td>\n",
       "      <td>760000</td>\n",
       "    </tr>\n",
       "  </tbody>\n",
       "</table>\n",
       "</div>"
      ],
      "text/plain": [
       "   area  bedrooms  age   price\n",
       "0  2600       3.0   20  550000\n",
       "1  3000       4.0   15  565000\n",
       "2  3200       4.2   18  610000\n",
       "3  3600       3.0   30  595000\n",
       "4  4000       5.0    8  760000"
      ]
     },
     "execution_count": 7,
     "metadata": {},
     "output_type": "execute_result"
    }
   ],
   "source": [
    "# fill null values with median value\n",
    "\n",
    "df['bedrooms'] = df['bedrooms'].fillna( df['bedrooms'].mean() )\n",
    "\n",
    "#  here we can use inplace=True as well.  both are valid for update data frame\n",
    "\n",
    "df.head()"
   ]
  },
  {
   "cell_type": "markdown",
   "metadata": {
    "papermill": {
     "duration": 0.023009,
     "end_time": "2021-07-13T12:15:17.136766",
     "exception": false,
     "start_time": "2021-07-13T12:15:17.113757",
     "status": "completed"
    },
    "tags": []
   },
   "source": [
    "# 3. Data Visualization"
   ]
  },
  {
   "cell_type": "code",
   "execution_count": 8,
   "metadata": {
    "execution": {
     "iopub.execute_input": "2021-07-13T12:15:17.190706Z",
     "iopub.status.busy": "2021-07-13T12:15:17.189946Z",
     "iopub.status.idle": "2021-07-13T12:15:17.440318Z",
     "shell.execute_reply": "2021-07-13T12:15:17.440873Z"
    },
    "papermill": {
     "duration": 0.280748,
     "end_time": "2021-07-13T12:15:17.441041",
     "exception": false,
     "start_time": "2021-07-13T12:15:17.160293",
     "status": "completed"
    },
    "tags": []
   },
   "outputs": [
    {
     "data": {
      "image/png": "[encoded data removed]",
      "text/plain": [
       "<Figure size 720x504 with 1 Axes>"
      ]
     },
     "metadata": {
      "needs_background": "light"
     },
     "output_type": "display_data"
    }
   ],
   "source": [
    "# barploat show\n",
    "\n",
    "plt.figure(figsize=(10, 7))\n",
    "plt.title(\"Bedroom wise price increase.\")\n",
    "\n",
    "sns.barplot('bedrooms', 'price', data=df)\n",
    "plt.xlabel('Bedrooms', )\n",
    "plt.ylabel('Price')\n",
    "plt.show()"
   ]
  },
  {
   "cell_type": "code",
   "execution_count": 9,
   "metadata": {
    "execution": {
     "iopub.execute_input": "2021-07-13T12:15:17.492513Z",
     "iopub.status.busy": "2021-07-13T12:15:17.491797Z",
     "iopub.status.idle": "2021-07-13T12:15:17.684771Z",
     "shell.execute_reply": "2021-07-13T12:15:17.685337Z"
    },
    "papermill": {
     "duration": 0.2205,
     "end_time": "2021-07-13T12:15:17.685493",
     "exception": false,
     "start_time": "2021-07-13T12:15:17.464993",
     "status": "completed"
    },
    "tags": []
   },
   "outputs": [
    {
     "data": {
      "image/png": "[encoded data removed]",
      "text/plain": [
       "<Figure size 720x360 with 1 Axes>"
      ]
     },
     "metadata": {
      "needs_background": "light"
     },
     "output_type": "display_data"
    }
   ],
   "source": [
    "# Scatter plot\n",
    "plt.figure(figsize=(10, 5))\n",
    "\n",
    "sns.scatterplot('bedrooms', 'price',data=df)\n",
    "plt.title(\"Price vs Bedroom Scatter plot\")\n",
    "\n",
    "plt.xlabel(\"House Bedrooms\")\n",
    "plt.ylabel('House Price')\n",
    "plt.show()"
   ]
  },
  {
   "cell_type": "markdown",
   "metadata": {
    "papermill": {
     "duration": 0.024849,
     "end_time": "2021-07-13T12:15:17.735525",
     "exception": false,
     "start_time": "2021-07-13T12:15:17.710676",
     "status": "completed"
    },
    "tags": []
   },
   "source": [
    "* Here we can see bedrooms and price linearly related, House's Price increased if bedroom size will increase."
   ]
  },
  {
   "cell_type": "code",
   "execution_count": 10,
   "metadata": {
    "execution": {
     "iopub.execute_input": "2021-07-13T12:15:17.789554Z",
     "iopub.status.busy": "2021-07-13T12:15:17.788869Z",
     "iopub.status.idle": "2021-07-13T12:15:18.158023Z",
     "shell.execute_reply": "2021-07-13T12:15:18.158642Z"
    },
    "papermill": {
     "duration": 0.398173,
     "end_time": "2021-07-13T12:15:18.158841",
     "exception": false,
     "start_time": "2021-07-13T12:15:17.760668",
     "status": "completed"
    },
    "tags": []
   },
   "outputs": [
    {
     "data": {
      "text/plain": [
       "<Figure size 720x504 with 0 Axes>"
      ]
     },
     "metadata": {},
     "output_type": "display_data"
    },
    {
     "data": {
      "image/png": "[encoded data removed]",
      "text/plain": [
       "<Figure size 360x360 with 1 Axes>"
      ]
     },
     "metadata": {
      "needs_background": "light"
     },
     "output_type": "display_data"
    }
   ],
   "source": [
    "plt.figure(figsize=(10, 7))\n",
    "\n",
    "sns.lmplot(x=\"bedrooms\", y=\"price\", data=df);\n",
    "plt.title(\"Price and bedroom wise line plot\")\n",
    "plt.show()"
   ]
  },
  {
   "cell_type": "markdown",
   "metadata": {
    "papermill": {
     "duration": 0.026458,
     "end_time": "2021-07-13T12:15:18.213707",
     "exception": false,
     "start_time": "2021-07-13T12:15:18.187249",
     "status": "completed"
    },
    "tags": []
   },
   "source": [
    "# 4. Model Implementing"
   ]
  },
  {
   "cell_type": "code",
   "execution_count": 11,
   "metadata": {
    "execution": {
     "iopub.execute_input": "2021-07-13T12:15:18.270968Z",
     "iopub.status.busy": "2021-07-13T12:15:18.270257Z",
     "iopub.status.idle": "2021-07-13T12:15:18.606541Z",
     "shell.execute_reply": "2021-07-13T12:15:18.607138Z"
    },
    "papermill": {
     "duration": 0.366868,
     "end_time": "2021-07-13T12:15:18.607336",
     "exception": false,
     "start_time": "2021-07-13T12:15:18.240468",
     "status": "completed"
    },
    "tags": []
   },
   "outputs": [],
   "source": [
    "# import model \n",
    "from sklearn.linear_model import LinearRegression"
   ]
  },
  {
   "cell_type": "markdown",
   "metadata": {
    "papermill": {
     "duration": 0.026858,
     "end_time": "2021-07-13T12:15:18.661585",
     "exception": false,
     "start_time": "2021-07-13T12:15:18.634727",
     "status": "completed"
    },
    "tags": []
   },
   "source": [
    "* Now, Create model instance from LinearRegression class"
   ]
  },
  {
   "cell_type": "code",
   "execution_count": 12,
   "metadata": {
    "execution": {
     "iopub.execute_input": "2021-07-13T12:15:18.732087Z",
     "iopub.status.busy": "2021-07-13T12:15:18.731434Z",
     "iopub.status.idle": "2021-07-13T12:15:18.739150Z",
     "shell.execute_reply": "2021-07-13T12:15:18.738469Z"
    },
    "papermill": {
     "duration": 0.04766,
     "end_time": "2021-07-13T12:15:18.739322",
     "exception": false,
     "start_time": "2021-07-13T12:15:18.691662",
     "status": "completed"
    },
    "tags": []
   },
   "outputs": [],
   "source": [
    "mdl = LinearRegression()"
   ]
  },
  {
   "cell_type": "markdown",
   "metadata": {
    "papermill": {
     "duration": 0.027895,
     "end_time": "2021-07-13T12:15:18.799618",
     "exception": false,
     "start_time": "2021-07-13T12:15:18.771723",
     "status": "completed"
    },
    "tags": []
   },
   "source": [
    "* Before fitting the model, create X and y for model fitting"
   ]
  },
  {
   "cell_type": "code",
   "execution_count": 13,
   "metadata": {
    "execution": {
     "iopub.execute_input": "2021-07-13T12:15:18.862895Z",
     "iopub.status.busy": "2021-07-13T12:15:18.861782Z",
     "iopub.status.idle": "2021-07-13T12:15:18.864533Z",
     "shell.execute_reply": "2021-07-13T12:15:18.865009Z"
    },
    "papermill": {
     "duration": 0.037728,
     "end_time": "2021-07-13T12:15:18.865197",
     "exception": false,
     "start_time": "2021-07-13T12:15:18.827469",
     "status": "completed"
    },
    "tags": []
   },
   "outputs": [],
   "source": [
    "#  Set dependent and independent variables\n",
    "\n",
    "X = df.drop(['price'], axis=1)\n",
    "y = df['price']"
   ]
  },
  {
   "cell_type": "code",
   "execution_count": 14,
   "metadata": {
    "execution": {
     "iopub.execute_input": "2021-07-13T12:15:18.924478Z",
     "iopub.status.busy": "2021-07-13T12:15:18.923445Z",
     "iopub.status.idle": "2021-07-13T12:15:18.934833Z",
     "shell.execute_reply": "2021-07-13T12:15:18.935397Z"
    },
    "papermill": {
     "duration": 0.042602,
     "end_time": "2021-07-13T12:15:18.935571",
     "exception": false,
     "start_time": "2021-07-13T12:15:18.892969",
     "status": "completed"
    },
    "tags": []
   },
   "outputs": [
    {
     "name": "stdout",
     "output_type": "stream",
     "text": [
      "<class 'pandas.core.frame.DataFrame'>\n",
      "RangeIndex: 6 entries, 0 to 5\n",
      "Data columns (total 4 columns):\n",
      " #   Column    Non-Null Count  Dtype\n",
      "---  ------    --------------  -----\n",
      " 0   area      6 non-null      int64\n",
      " 1   bedrooms  6 non-null      int64\n",
      " 2   age       6 non-null      int64\n",
      " 3   price     6 non-null      int64\n",
      "dtypes: int64(4)\n",
      "memory usage: 320.0 bytes\n"
     ]
    }
   ],
   "source": [
    "# Change bedrooms data type flaot to int\n",
    "\n",
    "df['bedrooms'] = df['bedrooms'].astype('int64')\n",
    "\n",
    "df.info()"
   ]
  },
  {
   "cell_type": "code",
   "execution_count": 15,
   "metadata": {
    "execution": {
     "iopub.execute_input": "2021-07-13T12:15:18.999262Z",
     "iopub.status.busy": "2021-07-13T12:15:18.998504Z",
     "iopub.status.idle": "2021-07-13T12:15:19.007873Z",
     "shell.execute_reply": "2021-07-13T12:15:19.007092Z"
    },
    "papermill": {
     "duration": 0.044925,
     "end_time": "2021-07-13T12:15:19.008038",
     "exception": false,
     "start_time": "2021-07-13T12:15:18.963113",
     "status": "completed"
    },
    "tags": []
   },
   "outputs": [
    {
     "name": "stdout",
     "output_type": "stream",
     "text": [
      "   area  bedrooms  age\n",
      "0  2600       3.0   20\n",
      "1  3000       4.0   15\n",
      "2  3200       4.2   18\n",
      "3  3600       3.0   30\n",
      "4  4000       5.0    8\n",
      "5  4100       6.0    8\n",
      "-------------------------\n",
      "0    550000\n",
      "1    565000\n",
      "2    610000\n",
      "3    595000\n",
      "4    760000\n",
      "5    810000\n",
      "Name: price, dtype: int64\n"
     ]
    }
   ],
   "source": [
    "#  shows the variables\n",
    "print(X)\n",
    "print(\"-\" * 25)\n",
    "print(y)"
   ]
  },
  {
   "cell_type": "markdown",
   "metadata": {
    "papermill": {
     "duration": 0.029038,
     "end_time": "2021-07-13T12:15:19.066944",
     "exception": false,
     "start_time": "2021-07-13T12:15:19.037906",
     "status": "completed"
    },
    "tags": []
   },
   "source": [
    "* Now, We are going to fitting the training and testing data"
   ]
  },
  {
   "cell_type": "code",
   "execution_count": 16,
   "metadata": {
    "execution": {
     "iopub.execute_input": "2021-07-13T12:15:19.128913Z",
     "iopub.status.busy": "2021-07-13T12:15:19.127897Z",
     "iopub.status.idle": "2021-07-13T12:15:19.149222Z",
     "shell.execute_reply": "2021-07-13T12:15:19.148420Z"
    },
    "papermill": {
     "duration": 0.053082,
     "end_time": "2021-07-13T12:15:19.149367",
     "exception": false,
     "start_time": "2021-07-13T12:15:19.096285",
     "status": "completed"
    },
    "tags": []
   },
   "outputs": [
    {
     "data": {
      "text/plain": [
       "LinearRegression()"
      ]
     },
     "execution_count": 16,
     "metadata": {},
     "output_type": "execute_result"
    }
   ],
   "source": [
    "#  Fitting Model\n",
    "\n",
    "mdl.fit( X, y  )"
   ]
  },
  {
   "cell_type": "markdown",
   "metadata": {
    "papermill": {
     "duration": 0.031522,
     "end_time": "2021-07-13T12:15:19.210061",
     "exception": false,
     "start_time": "2021-07-13T12:15:19.178539",
     "status": "completed"
    },
    "tags": []
   },
   "source": [
    "# Prediction \n"
   ]
  },
  {
   "cell_type": "code",
   "execution_count": 17,
   "metadata": {
    "execution": {
     "iopub.execute_input": "2021-07-13T12:15:19.274696Z",
     "iopub.status.busy": "2021-07-13T12:15:19.273750Z",
     "iopub.status.idle": "2021-07-13T12:15:19.278643Z",
     "shell.execute_reply": "2021-07-13T12:15:19.277908Z"
    },
    "papermill": {
     "duration": 0.039982,
     "end_time": "2021-07-13T12:15:19.278776",
     "exception": false,
     "start_time": "2021-07-13T12:15:19.238794",
     "status": "completed"
    },
    "tags": []
   },
   "outputs": [
    {
     "data": {
      "text/plain": [
       "array([551989.04870256])"
      ]
     },
     "execution_count": 17,
     "metadata": {},
     "output_type": "execute_result"
    }
   ],
   "source": [
    "# Now custimize prediction testing\n",
    "\n",
    "mdl.predict([[ 4000, 2, 50 ]])\n",
    "# show house price here"
   ]
  },
  {
   "cell_type": "markdown",
   "metadata": {
    "papermill": {
     "duration": 0.029118,
     "end_time": "2021-07-13T12:15:19.336985",
     "exception": false,
     "start_time": "2021-07-13T12:15:19.307867",
     "status": "completed"
    },
    "tags": []
   },
   "source": [
    "- Show Coeficient"
   ]
  },
  {
   "cell_type": "code",
   "execution_count": 18,
   "metadata": {
    "execution": {
     "iopub.execute_input": "2021-07-13T12:15:19.402276Z",
     "iopub.status.busy": "2021-07-13T12:15:19.401422Z",
     "iopub.status.idle": "2021-07-13T12:15:19.406300Z",
     "shell.execute_reply": "2021-07-13T12:15:19.405719Z"
    },
    "papermill": {
     "duration": 0.040119,
     "end_time": "2021-07-13T12:15:19.406424",
     "exception": false,
     "start_time": "2021-07-13T12:15:19.366305",
     "status": "completed"
    },
    "tags": []
   },
   "outputs": [
    {
     "data": {
      "text/plain": [
       "array([  116.66950551, 18756.28806982, -3675.75111708])"
      ]
     },
     "execution_count": 18,
     "metadata": {},
     "output_type": "execute_result"
    }
   ],
   "source": [
    "mdl.coef_"
   ]
  },
  {
   "cell_type": "markdown",
   "metadata": {
    "papermill": {
     "duration": 0.029266,
     "end_time": "2021-07-13T12:15:19.465676",
     "exception": false,
     "start_time": "2021-07-13T12:15:19.436410",
     "status": "completed"
    },
    "tags": []
   },
   "source": [
    "- Show intecept"
   ]
  },
  {
   "cell_type": "code",
   "execution_count": 19,
   "metadata": {
    "execution": {
     "iopub.execute_input": "2021-07-13T12:15:19.530244Z",
     "iopub.status.busy": "2021-07-13T12:15:19.529583Z",
     "iopub.status.idle": "2021-07-13T12:15:19.533416Z",
     "shell.execute_reply": "2021-07-13T12:15:19.532748Z"
    },
    "papermill": {
     "duration": 0.038257,
     "end_time": "2021-07-13T12:15:19.533538",
     "exception": false,
     "start_time": "2021-07-13T12:15:19.495281",
     "status": "completed"
    },
    "tags": []
   },
   "outputs": [
    {
     "data": {
      "text/plain": [
       "231586.00639409176"
      ]
     },
     "execution_count": 19,
     "metadata": {},
     "output_type": "execute_result"
    }
   ],
   "source": [
    "mdl.intercept_"
   ]
  },
  {
   "cell_type": "code",
   "execution_count": 20,
   "metadata": {
    "execution": {
     "iopub.execute_input": "2021-07-13T12:15:19.602760Z",
     "iopub.status.busy": "2021-07-13T12:15:19.602013Z",
     "iopub.status.idle": "2021-07-13T12:15:19.606245Z",
     "shell.execute_reply": "2021-07-13T12:15:19.606938Z"
    },
    "papermill": {
     "duration": 0.043236,
     "end_time": "2021-07-13T12:15:19.607146",
     "exception": false,
     "start_time": "2021-07-13T12:15:19.563910",
     "status": "completed"
    },
    "tags": []
   },
   "outputs": [
    {
     "name": "stdout",
     "output_type": "stream",
     "text": [
      "95.40926625396438\n"
     ]
    }
   ],
   "source": [
    "#  know score \n",
    "score = mdl.score( X, y )\n",
    "\n",
    "print(score * 100)"
   ]
  },
  {
   "cell_type": "markdown",
   "metadata": {
    "papermill": {
     "duration": 0.030881,
     "end_time": "2021-07-13T12:15:19.670022",
     "exception": false,
     "start_time": "2021-07-13T12:15:19.639141",
     "status": "completed"
    },
    "tags": []
   },
   "source": [
    "--- \n",
    "---\n",
    "\n",
    "<div class=\"text-center\">\n",
    "    <h1>That's it Guys,</h1>\n",
    "    <h1>🙏</h1>\n",
    "    \n",
    "        \n",
    "        I Hope you guys you like and enjoy it, and learn something interesting things from this notebook, \n",
    "        \n",
    "        Even I learn a lots of things while I'm creating this notebook\n",
    "    \n",
    "        Keep Learning,\n",
    "        Regards,\n",
    "        Vikas Ukani.\n",
    "    \n",
    "</div>\n",
    "\n",
    "---\n",
    "---\n",
    "\n",
    "<img src=\"https://static.wixstatic.com/media/3592ed_5453a1ea302b4c4588413007ac4fcb93~mv2.gif\" align=\"center\" alt=\"Thank You\" style=\"min-height:20%; max-height:20%\" width=\"90%\" />\n",
    "\n"
   ]
  }
 ],
 "metadata": {
  "kernelspec": {
   "display_name": "Python 3",
   "language": "python",
   "name": "python3"
  },
  "language_info": {
   "codemirror_mode": {
    "name": "ipython",
    "version": 3
   },
   "file_extension": ".py",
   "mimetype": "text/x-python",
   "name": "python",
   "nbconvert_exporter": "python",
   "pygments_lexer": "ipython3",
   "version": "3.7.6"
  },
  "papermill": {
   "duration": 9.273362,
   "end_time": "2021-07-13T12:15:19.808085",
   "environment_variables": {},
   "exception": null,
   "input_path": "__notebook__.ipynb",
   "output_path": "__notebook__.ipynb",
   "parameters": {},
   "start_time": "2021-07-13T12:15:10.534723",
   "version": "2.1.0"
  }
 },
 "nbformat": 4,
 "nbformat_minor": 4
}
